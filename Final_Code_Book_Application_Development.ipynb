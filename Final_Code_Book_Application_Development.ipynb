{
  "nbformat": 4,
  "nbformat_minor": 0,
  "metadata": {
    "colab": {
      "provenance": [],
      "authorship_tag": "ABX9TyOKPCpOwrWXcq1vHuhOxoGF",
      "include_colab_link": true
    },
    "kernelspec": {
      "name": "python3",
      "display_name": "Python 3"
    },
    "language_info": {
      "name": "python"
    }
  },
  "cells": [
    {
      "cell_type": "markdown",
      "metadata": {
        "id": "view-in-github",
        "colab_type": "text"
      },
      "source": [
        "<a href=\"https://colab.research.google.com/github/pratik7191/random-forest-streamlit-app/blob/main/Final_Code_Book_Application_Development.ipynb\" target=\"_parent\"><img src=\"https://colab.research.google.com/assets/colab-badge.svg\" alt=\"Open In Colab\"/></a>"
      ]
    },
    {
      "cell_type": "code",
      "execution_count": null,
      "metadata": {
        "colab": {
          "base_uri": "https://localhost:8080/"
        },
        "id": "2j4RMHwONzhN",
        "outputId": "e011b334-09b2-4b8c-f0b1-a7488222b19c"
      },
      "outputs": [
        {
          "output_type": "stream",
          "name": "stdout",
          "text": [
            "Dataset Columns: Index(['tradein_ref_id', 'trade_in_status', 'trade_in_datetime',\n",
            "       'diagnosis_done', 'offer_program_name', 'IMEI', 'IMEI_upgraded_device',\n",
            "       'trade_in_price_offered_to_the_customer',\n",
            "       'trade_in_price_offered_to_the_retailer', 'device_grade',\n",
            "       'liquidator_type', 'requote_value', 'offer_value', 'new_device_brand',\n",
            "       'liq_p_flag', 'partner_id', 'product_id', 'psl_id',\n",
            "       'old_device_brand_id', 'dt_of_purchase', 'is_under_warranty',\n",
            "       'warranty_till_dt', 'name_of_firm', 'service_location_name', 'zip_code',\n",
            "       'brand_name', 'product_name'],\n",
            "      dtype='object')\n",
            "Sample Rows:   tradein_ref_id trade_in_status trade_in_datetime  diagnosis_done  \\\n",
            "0   GKAL1ZXVZHDO          Failed           21:34.0               1   \n",
            "1   IGG4VYQOYU6J          Failed           31:12.0               1   \n",
            "2   8VUMFNU7WH1P          Failed           51:41.0               1   \n",
            "3   ARYFHWQEDROQ          Failed           54:46.0               1   \n",
            "4   MMSBWLHGR8B5          Failed           17:19.0               1   \n",
            "\n",
            "  offer_program_name         IMEI IMEI_upgraded_device  \\\n",
            "0                NaN  8.65212E+14                  NaN   \n",
            "1                NaN  8.60197E+14                  NaN   \n",
            "2                NaN   3.5383E+14                  NaN   \n",
            "3                NaN  8.60586E+14                  NaN   \n",
            "4                NaN  3.50762E+14                  NaN   \n",
            "\n",
            "   trade_in_price_offered_to_the_customer  \\\n",
            "0                                   590.0   \n",
            "1                                     0.0   \n",
            "2                                     0.0   \n",
            "3                                     0.0   \n",
            "4                                  3550.0   \n",
            "\n",
            "   trade_in_price_offered_to_the_retailer device_grade  ...  psl_id  \\\n",
            "0                                   590.0            E  ...  253140   \n",
            "1                                     0.0            E  ...   22364   \n",
            "2                                     0.0            E  ...    8106   \n",
            "3                                     0.0            E  ...    8271   \n",
            "4                                  3940.0            E  ...   26058   \n",
            "\n",
            "   old_device_brand_id  dt_of_purchase is_under_warranty  warranty_till_dt  \\\n",
            "0                   36             NaN               NaN               NaN   \n",
            "1                   85             NaN               NaN               NaN   \n",
            "2                    4             NaN               NaN               NaN   \n",
            "3                   86             NaN               NaN               NaN   \n",
            "4                    4             NaN               NaN               NaN   \n",
            "\n",
            "                        name_of_firm           service_location_name  \\\n",
            "0       M/S  COMMUNICATION MERCHANTS             KUM KUM MOBILE SHOP   \n",
            "1  SANGEETHA MOBILES PRIVATE LIMITED  Sangeetha Mobiles - Bailhongal   \n",
            "2  SANGEETHA MOBILES PRIVATE LIMITED                    Sahakarnagar   \n",
            "3  SANGEETHA MOBILES PRIVATE LIMITED              Heggadadevana Kote   \n",
            "4   INFINITI  RETAIL LIMITED (Croma)                            A034   \n",
            "\n",
            "   zip_code  brand_name   product_name  \n",
            "0  383430.0      Xiaomi  Redmi Note 11  \n",
            "1  591102.0        OPPO         F9 Pro  \n",
            "2  560092.0       Apple  iPhone 11 Pro  \n",
            "3  571114.0        vivo       vivo Y1s  \n",
            "4  600002.0       Apple    iPhone SE 3  \n",
            "\n",
            "[5 rows x 27 columns]\n"
          ]
        }
      ],
      "source": [
        "# Import necessary libraries\n",
        "import pandas as pd\n",
        "from csv import QUOTE_MINIMAL\n",
        "\n",
        "# Load the dataset with error handling\n",
        "data_path = \"/content/Capstone Trade-in Dataset 121124 (1).csv\"\n",
        "try:\n",
        "    data = pd.read_csv(data_path, quoting=QUOTE_MINIMAL, on_bad_lines='skip')  # Skip problematic lines\n",
        "    # Print sample and column details\n",
        "    print(\"Dataset Columns:\", data.columns)\n",
        "    print(\"Sample Rows:\", data.head())\n",
        "except Exception as e:\n",
        "    print(\"Error reading the file:\", e)"
      ]
    },
    {
      "cell_type": "code",
      "source": [
        "data.shape"
      ],
      "metadata": {
        "colab": {
          "base_uri": "https://localhost:8080/"
        },
        "id": "JwDJ9My8OS2f",
        "outputId": "9e56d0b7-2a73-47e2-f38f-00f03716761e"
      },
      "execution_count": null,
      "outputs": [
        {
          "output_type": "execute_result",
          "data": {
            "text/plain": [
              "(1048575, 27)"
            ]
          },
          "metadata": {},
          "execution_count": 38
        }
      ]
    },
    {
      "cell_type": "code",
      "source": [
        "# Convert date/time columns\n",
        "if 'trade_in_datetime' in data.columns:\n",
        "    data['trade_in_datetime'] = pd.to_datetime(data['trade_in_datetime'], errors='coerce')\n",
        "\n",
        "# Ensure numerical columns are in correct type\n",
        "for col in ['trade_in_price_offered_to_the_customer', 'trade_in_price_offered_to_the_retailer']:\n",
        "    data[col] = pd.to_numeric(data[col], errors='coerce')\n",
        "\n",
        "# Categorical encoding (Example: device_grade)\n",
        "if 'device_grade' in data.columns:\n",
        "    data['device_grade_encoded'] = data['device_grade'].astype('category').cat.codes"
      ],
      "metadata": {
        "id": "hmblq2oMOTuo"
      },
      "execution_count": null,
      "outputs": []
    },
    {
      "cell_type": "code",
      "source": [
        "# Drop irrelevant columns\n",
        "columns_to_drop = ['tradein_ref_id', 'IMEI', 'name_of_firm', 'service_location_name', 'zip_code', 'product_name']\n",
        "data = data.drop(columns=[col for col in columns_to_drop if col in data.columns])\n",
        "\n",
        "# Check the remaining columns\n",
        "print(\"Remaining Columns:\", data.columns)"
      ],
      "metadata": {
        "colab": {
          "base_uri": "https://localhost:8080/"
        },
        "id": "MD5u1Bk1OeWW",
        "outputId": "32c944ba-bf29-424f-bd1d-0ffdc7ed19fc"
      },
      "execution_count": null,
      "outputs": [
        {
          "output_type": "stream",
          "name": "stdout",
          "text": [
            "Remaining Columns: Index(['trade_in_status', 'trade_in_datetime', 'diagnosis_done',\n",
            "       'offer_program_name', 'IMEI_upgraded_device',\n",
            "       'trade_in_price_offered_to_the_customer',\n",
            "       'trade_in_price_offered_to_the_retailer', 'device_grade',\n",
            "       'liquidator_type', 'requote_value', 'offer_value', 'new_device_brand',\n",
            "       'liq_p_flag', 'partner_id', 'product_id', 'psl_id',\n",
            "       'old_device_brand_id', 'dt_of_purchase', 'is_under_warranty',\n",
            "       'warranty_till_dt', 'brand_name', 'device_grade_encoded'],\n",
            "      dtype='object')\n"
          ]
        }
      ]
    },
    {
      "cell_type": "code",
      "source": [
        "# Fill missing values in numerical columns with mean\n",
        "for col in data.select_dtypes(include=['float64', 'int64']).columns:\n",
        "    data[col].fillna(data[col].mean(), inplace=True)\n",
        "\n",
        "# Fill missing values in categorical columns with mode\n",
        "for col in data.select_dtypes(include=['object']).columns:\n",
        "    data[col].fillna(data[col].mode()[0], inplace=True)\n",
        "\n",
        "# Drop columns with more than 80% missing values\n",
        "threshold = 0.8\n",
        "data = data.loc[:, data.isnull().mean() < threshold]"
      ],
      "metadata": {
        "id": "U2bGiOraOhlv"
      },
      "execution_count": null,
      "outputs": []
    },
    {
      "cell_type": "code",
      "source": [
        "import pandas as pd\n",
        "from sklearn.model_selection import train_test_split\n",
        "from sklearn.linear_model import LogisticRegression\n",
        "from sklearn.ensemble import RandomForestClassifier, GradientBoostingClassifier\n",
        "from sklearn.metrics import accuracy_score, classification_report\n",
        "\n",
        "# Specify the target column\n",
        "target_column = 'trade_in_status'\n",
        "\n",
        "# Ensure the target column is numeric\n",
        "data[target_column] = data[target_column].astype('category').cat.codes\n",
        "\n",
        "# Separate features and target\n",
        "X = data.drop(columns=[target_column])\n",
        "y = data[target_column]\n",
        "\n",
        "# Convert datetime columns to numeric features\n",
        "if 'trade_in_datetime' in X.columns:\n",
        "    X['trade_in_datetime'] = pd.to_datetime(X['trade_in_datetime'], errors='coerce')\n",
        "    X['trade_in_year'] = X['trade_in_datetime'].dt.year\n",
        "    X['trade_in_month'] = X['trade_in_datetime'].dt.month\n",
        "    X['trade_in_day'] = X['trade_in_datetime'].dt.day\n",
        "    X = X.drop(columns=['trade_in_datetime'])\n",
        "\n",
        "# Encode categorical columns\n",
        "categorical_columns = X.select_dtypes(include=['object']).columns\n",
        "for col in categorical_columns:\n",
        "    X[col] = X[col].astype('category').cat.codes\n",
        "\n",
        "# Fill missing values with 0\n",
        "X = X.fillna(0)\n",
        "\n",
        "# Verify that X is fully numeric\n",
        "print(\"Data types after preprocessing:\\n\", X.dtypes)\n",
        "\n",
        "# Split data into training and test sets\n",
        "X_train, X_test, y_train, y_test = train_test_split(X, y, test_size=0.2, random_state=42)\n",
        "\n",
        "# Logistic Regression\n",
        "logreg = LogisticRegression(max_iter=1000)\n",
        "logreg.fit(X_train, y_train)\n",
        "y_pred_logreg = logreg.predict(X_test)\n",
        "print(\"Logistic Regression Accuracy:\", accuracy_score(y_test, y_pred_logreg))\n",
        "print(\"Classification Report:\\n\", classification_report(y_test, y_pred_logreg))\n",
        "\n",
        "# Random Forest\n",
        "rf = RandomForestClassifier()\n",
        "rf.fit(X_train, y_train)\n",
        "y_pred_rf = rf.predict(X_test)\n",
        "print(\"Random Forest Accuracy:\", accuracy_score(y_test, y_pred_rf))\n",
        "print(\"Classification Report:\\n\", classification_report(y_test, y_pred_rf))\n",
        "\n",
        "# Gradient Boosting\n",
        "gb = GradientBoostingClassifier()\n",
        "gb.fit(X_train, y_train)\n",
        "y_pred_gb = gb.predict(X_test)\n",
        "print(\"Gradient Boosting Accuracy:\", accuracy_score(y_test, y_pred_gb))\n",
        "print(\"Classification Report:\\n\", classification_report(y_test, y_pred_gb))\n"
      ],
      "metadata": {
        "colab": {
          "base_uri": "https://localhost:8080/"
        },
        "id": "-tgdoxmiOne0",
        "outputId": "6268c246-653e-4c3f-d422-24d442af36b3"
      },
      "execution_count": null,
      "outputs": [
        {
          "output_type": "stream",
          "name": "stdout",
          "text": [
            "Data types after preprocessing:\n",
            " diagnosis_done                              int64\n",
            "offer_program_name                           int8\n",
            "IMEI_upgraded_device                        int16\n",
            "trade_in_price_offered_to_the_customer    float64\n",
            "trade_in_price_offered_to_the_retailer    float64\n",
            "device_grade                                 int8\n",
            "liquidator_type                              int8\n",
            "requote_value                             float64\n",
            "offer_value                               float64\n",
            "new_device_brand                             int8\n",
            "liq_p_flag                                  int64\n",
            "partner_id                                  int64\n",
            "product_id                                  int64\n",
            "psl_id                                      int64\n",
            "old_device_brand_id                         int64\n",
            "dt_of_purchase                              int16\n",
            "is_under_warranty                         float64\n",
            "warranty_till_dt                            int16\n",
            "brand_name                                   int8\n",
            "device_grade_encoded                         int8\n",
            "trade_in_year                             float64\n",
            "trade_in_month                            float64\n",
            "trade_in_day                              float64\n",
            "dtype: object\n",
            "Logistic Regression Accuracy: 0.9506282335550629\n",
            "Classification Report:\n",
            "               precision    recall  f1-score   support\n",
            "\n",
            "           0       0.96      0.96      0.96    131033\n",
            "           1       0.94      0.93      0.93     78682\n",
            "\n",
            "    accuracy                           0.95    209715\n",
            "   macro avg       0.95      0.95      0.95    209715\n",
            "weighted avg       0.95      0.95      0.95    209715\n",
            "\n",
            "Random Forest Accuracy: 0.9825191331092197\n",
            "Classification Report:\n",
            "               precision    recall  f1-score   support\n",
            "\n",
            "           0       0.99      0.98      0.99    131033\n",
            "           1       0.96      0.99      0.98     78682\n",
            "\n",
            "    accuracy                           0.98    209715\n",
            "   macro avg       0.98      0.98      0.98    209715\n",
            "weighted avg       0.98      0.98      0.98    209715\n",
            "\n",
            "Gradient Boosting Accuracy: 0.982118589514341\n",
            "Classification Report:\n",
            "               precision    recall  f1-score   support\n",
            "\n",
            "           0       1.00      0.97      0.99    131033\n",
            "           1       0.96      1.00      0.98     78682\n",
            "\n",
            "    accuracy                           0.98    209715\n",
            "   macro avg       0.98      0.99      0.98    209715\n",
            "weighted avg       0.98      0.98      0.98    209715\n",
            "\n"
          ]
        }
      ]
    },
    {
      "cell_type": "code",
      "source": [
        "# Calculate training and testing accuracies for each model\n",
        "logreg_train_accuracy = accuracy_score(y_train, logreg.predict(X_train))\n",
        "logreg_test_accuracy = accuracy_score(y_test, y_pred_logreg)\n",
        "\n",
        "rf_train_accuracy = accuracy_score(y_train, rf.predict(X_train))\n",
        "rf_test_accuracy = accuracy_score(y_test, y_pred_rf)\n",
        "\n",
        "gb_train_accuracy = accuracy_score(y_train, gb.predict(X_train))\n",
        "gb_test_accuracy = accuracy_score(y_test, y_pred_gb)\n",
        "\n",
        "# Prepare results as a DataFrame\n",
        "results_summary = {\n",
        "    \"Model\": [\"Logistic Regression\", \"Random Forest\", \"Gradient Boosting\"],\n",
        "    \"Train Accuracy\": [logreg_train_accuracy, rf_train_accuracy, gb_train_accuracy],\n",
        "    \"Test Accuracy\": [logreg_test_accuracy, rf_test_accuracy, gb_test_accuracy]\n",
        "}\n",
        "\n",
        "results_df = pd.DataFrame(results_summary)\n",
        "\n",
        "# Display the results\n",
        "print(\"Model Training and Testing Accuracy:\")\n",
        "print(results_df)"
      ],
      "metadata": {
        "colab": {
          "base_uri": "https://localhost:8080/"
        },
        "id": "WEIkIGpM2_jv",
        "outputId": "88cb7adb-823f-4cf4-b57a-4a3125681855"
      },
      "execution_count": null,
      "outputs": [
        {
          "output_type": "stream",
          "name": "stdout",
          "text": [
            "Model Training and Testing Accuracy:\n",
            "                 Model  Train Accuracy  Test Accuracy\n",
            "0  Logistic Regression        0.950114       0.950628\n",
            "1        Random Forest        0.995320       0.982519\n",
            "2    Gradient Boosting        0.982232       0.982119\n"
          ]
        }
      ]
    },
    {
      "cell_type": "code",
      "source": [
        "import pickle\n",
        "\n",
        "# Specify the path to save the model\n",
        "pickle_file_path = 'random_forest_model.pkl'\n",
        "\n",
        "# Save the Random Forest model\n",
        "with open(pickle_file_path, 'wb') as file:\n",
        "    pickle.dump(rf, file)\n",
        "\n",
        "print(f\"Random Forest model saved to: {pickle_file_path}\")\n"
      ],
      "metadata": {
        "colab": {
          "base_uri": "https://localhost:8080/"
        },
        "id": "FhmdE5lo4q7T",
        "outputId": "c7b8830e-cd66-48ee-de90-86eecdf722d7"
      },
      "execution_count": null,
      "outputs": [
        {
          "output_type": "stream",
          "name": "stdout",
          "text": [
            "Random Forest model saved to: random_forest_model.pkl\n"
          ]
        }
      ]
    },
    {
      "cell_type": "code",
      "source": [
        "# Install Streamlit and ngrok for Google Colab\n",
        "!pip install streamlit ngrok\n"
      ],
      "metadata": {
        "colab": {
          "base_uri": "https://localhost:8080/"
        },
        "id": "-RLNLKCaBF1U",
        "outputId": "3dcd1981-95cb-4be8-9773-4b2f78b9793a"
      },
      "execution_count": null,
      "outputs": [
        {
          "output_type": "stream",
          "name": "stdout",
          "text": [
            "Collecting streamlit\n",
            "  Downloading streamlit-1.41.1-py2.py3-none-any.whl.metadata (8.5 kB)\n",
            "Collecting ngrok\n",
            "  Downloading ngrok-1.4.0-cp37-abi3-manylinux_2_17_x86_64.manylinux2014_x86_64.whl.metadata (19 kB)\n",
            "Requirement already satisfied: altair<6,>=4.0 in /usr/local/lib/python3.10/dist-packages (from streamlit) (5.5.0)\n",
            "Requirement already satisfied: blinker<2,>=1.0.0 in /usr/local/lib/python3.10/dist-packages (from streamlit) (1.9.0)\n",
            "Requirement already satisfied: cachetools<6,>=4.0 in /usr/local/lib/python3.10/dist-packages (from streamlit) (5.5.0)\n",
            "Requirement already satisfied: click<9,>=7.0 in /usr/local/lib/python3.10/dist-packages (from streamlit) (8.1.7)\n",
            "Requirement already satisfied: numpy<3,>=1.23 in /usr/local/lib/python3.10/dist-packages (from streamlit) (1.26.4)\n",
            "Requirement already satisfied: packaging<25,>=20 in /usr/local/lib/python3.10/dist-packages (from streamlit) (24.2)\n",
            "Requirement already satisfied: pandas<3,>=1.4.0 in /usr/local/lib/python3.10/dist-packages (from streamlit) (2.2.2)\n",
            "Requirement already satisfied: pillow<12,>=7.1.0 in /usr/local/lib/python3.10/dist-packages (from streamlit) (11.0.0)\n",
            "Requirement already satisfied: protobuf<6,>=3.20 in /usr/local/lib/python3.10/dist-packages (from streamlit) (4.25.5)\n",
            "Requirement already satisfied: pyarrow>=7.0 in /usr/local/lib/python3.10/dist-packages (from streamlit) (17.0.0)\n",
            "Requirement already satisfied: requests<3,>=2.27 in /usr/local/lib/python3.10/dist-packages (from streamlit) (2.32.3)\n",
            "Requirement already satisfied: rich<14,>=10.14.0 in /usr/local/lib/python3.10/dist-packages (from streamlit) (13.9.4)\n",
            "Requirement already satisfied: tenacity<10,>=8.1.0 in /usr/local/lib/python3.10/dist-packages (from streamlit) (9.0.0)\n",
            "Requirement already satisfied: toml<2,>=0.10.1 in /usr/local/lib/python3.10/dist-packages (from streamlit) (0.10.2)\n",
            "Requirement already satisfied: typing-extensions<5,>=4.3.0 in /usr/local/lib/python3.10/dist-packages (from streamlit) (4.12.2)\n",
            "Collecting watchdog<7,>=2.1.5 (from streamlit)\n",
            "  Downloading watchdog-6.0.0-py3-none-manylinux2014_x86_64.whl.metadata (44 kB)\n",
            "\u001b[2K     \u001b[90m━━━━━━━━━━━━━━━━━━━━━━━━━━━━━━━━━━━━━━━━\u001b[0m \u001b[32m44.3/44.3 kB\u001b[0m \u001b[31m3.2 MB/s\u001b[0m eta \u001b[36m0:00:00\u001b[0m\n",
            "\u001b[?25hRequirement already satisfied: gitpython!=3.1.19,<4,>=3.0.7 in /usr/local/lib/python3.10/dist-packages (from streamlit) (3.1.43)\n",
            "Collecting pydeck<1,>=0.8.0b4 (from streamlit)\n",
            "  Downloading pydeck-0.9.1-py2.py3-none-any.whl.metadata (4.1 kB)\n",
            "Requirement already satisfied: tornado<7,>=6.0.3 in /usr/local/lib/python3.10/dist-packages (from streamlit) (6.3.3)\n",
            "Requirement already satisfied: jinja2 in /usr/local/lib/python3.10/dist-packages (from altair<6,>=4.0->streamlit) (3.1.4)\n",
            "Requirement already satisfied: jsonschema>=3.0 in /usr/local/lib/python3.10/dist-packages (from altair<6,>=4.0->streamlit) (4.23.0)\n",
            "Requirement already satisfied: narwhals>=1.14.2 in /usr/local/lib/python3.10/dist-packages (from altair<6,>=4.0->streamlit) (1.18.4)\n",
            "Requirement already satisfied: gitdb<5,>=4.0.1 in /usr/local/lib/python3.10/dist-packages (from gitpython!=3.1.19,<4,>=3.0.7->streamlit) (4.0.11)\n",
            "Requirement already satisfied: python-dateutil>=2.8.2 in /usr/local/lib/python3.10/dist-packages (from pandas<3,>=1.4.0->streamlit) (2.8.2)\n",
            "Requirement already satisfied: pytz>=2020.1 in /usr/local/lib/python3.10/dist-packages (from pandas<3,>=1.4.0->streamlit) (2024.2)\n",
            "Requirement already satisfied: tzdata>=2022.7 in /usr/local/lib/python3.10/dist-packages (from pandas<3,>=1.4.0->streamlit) (2024.2)\n",
            "Requirement already satisfied: charset-normalizer<4,>=2 in /usr/local/lib/python3.10/dist-packages (from requests<3,>=2.27->streamlit) (3.4.0)\n",
            "Requirement already satisfied: idna<4,>=2.5 in /usr/local/lib/python3.10/dist-packages (from requests<3,>=2.27->streamlit) (3.10)\n",
            "Requirement already satisfied: urllib3<3,>=1.21.1 in /usr/local/lib/python3.10/dist-packages (from requests<3,>=2.27->streamlit) (2.2.3)\n",
            "Requirement already satisfied: certifi>=2017.4.17 in /usr/local/lib/python3.10/dist-packages (from requests<3,>=2.27->streamlit) (2024.12.14)\n",
            "Requirement already satisfied: markdown-it-py>=2.2.0 in /usr/local/lib/python3.10/dist-packages (from rich<14,>=10.14.0->streamlit) (3.0.0)\n",
            "Requirement already satisfied: pygments<3.0.0,>=2.13.0 in /usr/local/lib/python3.10/dist-packages (from rich<14,>=10.14.0->streamlit) (2.18.0)\n",
            "Requirement already satisfied: smmap<6,>=3.0.1 in /usr/local/lib/python3.10/dist-packages (from gitdb<5,>=4.0.1->gitpython!=3.1.19,<4,>=3.0.7->streamlit) (5.0.1)\n",
            "Requirement already satisfied: MarkupSafe>=2.0 in /usr/local/lib/python3.10/dist-packages (from jinja2->altair<6,>=4.0->streamlit) (3.0.2)\n",
            "Requirement already satisfied: attrs>=22.2.0 in /usr/local/lib/python3.10/dist-packages (from jsonschema>=3.0->altair<6,>=4.0->streamlit) (24.3.0)\n",
            "Requirement already satisfied: jsonschema-specifications>=2023.03.6 in /usr/local/lib/python3.10/dist-packages (from jsonschema>=3.0->altair<6,>=4.0->streamlit) (2024.10.1)\n",
            "Requirement already satisfied: referencing>=0.28.4 in /usr/local/lib/python3.10/dist-packages (from jsonschema>=3.0->altair<6,>=4.0->streamlit) (0.35.1)\n",
            "Requirement already satisfied: rpds-py>=0.7.1 in /usr/local/lib/python3.10/dist-packages (from jsonschema>=3.0->altair<6,>=4.0->streamlit) (0.22.3)\n",
            "Requirement already satisfied: mdurl~=0.1 in /usr/local/lib/python3.10/dist-packages (from markdown-it-py>=2.2.0->rich<14,>=10.14.0->streamlit) (0.1.2)\n",
            "Requirement already satisfied: six>=1.5 in /usr/local/lib/python3.10/dist-packages (from python-dateutil>=2.8.2->pandas<3,>=1.4.0->streamlit) (1.17.0)\n",
            "Downloading streamlit-1.41.1-py2.py3-none-any.whl (9.1 MB)\n",
            "\u001b[2K   \u001b[90m━━━━━━━━━━━━━━━━━━━━━━━━━━━━━━━━━━━━━━━━\u001b[0m \u001b[32m9.1/9.1 MB\u001b[0m \u001b[31m21.0 MB/s\u001b[0m eta \u001b[36m0:00:00\u001b[0m\n",
            "\u001b[?25hDownloading ngrok-1.4.0-cp37-abi3-manylinux_2_17_x86_64.manylinux2014_x86_64.whl (3.1 MB)\n",
            "\u001b[2K   \u001b[90m━━━━━━━━━━━━━━━━━━━━━━━━━━━━━━━━━━━━━━━━\u001b[0m \u001b[32m3.1/3.1 MB\u001b[0m \u001b[31m24.3 MB/s\u001b[0m eta \u001b[36m0:00:00\u001b[0m\n",
            "\u001b[?25hDownloading pydeck-0.9.1-py2.py3-none-any.whl (6.9 MB)\n",
            "\u001b[2K   \u001b[90m━━━━━━━━━━━━━━━━━━━━━━━━━━━━━━━━━━━━━━━━\u001b[0m \u001b[32m6.9/6.9 MB\u001b[0m \u001b[31m18.3 MB/s\u001b[0m eta \u001b[36m0:00:00\u001b[0m\n",
            "\u001b[?25hDownloading watchdog-6.0.0-py3-none-manylinux2014_x86_64.whl (79 kB)\n",
            "\u001b[2K   \u001b[90m━━━━━━━━━━━━━━━━━━━━━━━━━━━━━━━━━━━━━━━━\u001b[0m \u001b[32m79.1/79.1 kB\u001b[0m \u001b[31m5.4 MB/s\u001b[0m eta \u001b[36m0:00:00\u001b[0m\n",
            "\u001b[?25hInstalling collected packages: watchdog, ngrok, pydeck, streamlit\n",
            "Successfully installed ngrok-1.4.0 pydeck-0.9.1 streamlit-1.41.1 watchdog-6.0.0\n"
          ]
        }
      ]
    },
    {
      "cell_type": "code",
      "source": [
        "%%writefile app.py\n",
        "\n",
        "import streamlit as st\n",
        "import pickle\n",
        "import numpy as np\n",
        "\n",
        "# Load the trained Random Forest model\n",
        "with open('random_forest_model.pkl', 'rb') as file:\n",
        "    model = pickle.load(file)\n",
        "\n",
        "# Title of the web app\n",
        "st.title(\"Trade-In Status Prediction App\")\n",
        "\n",
        "# Input fields for the top 8 features\n",
        "st.header(\"Input the Device Details\")\n",
        "\n",
        "# Input fields based on the top 8 features\n",
        "offer_value = st.number_input(\"Offer Value\", min_value=0.0, step=0.01)\n",
        "is_under_warranty = st.number_input(\"Is Under Warranty (0 or 1)\", min_value=0, max_value=1, step=1)\n",
        "device_grade = st.number_input(\"Device Grade (e.g., 1, 2, 3)\", min_value=0, step=1)\n",
        "new_device_brand = st.number_input(\"New Device Brand (e.g., 1, 2, 3)\", min_value=0, step=1)\n",
        "\n",
        "# Predict button\n",
        "if st.button(\"Predict Trade-In Status\"):\n",
        "    # Create feature array for prediction\n",
        "    features = np.array([\n",
        "        offer_value,\n",
        "        is_under_warranty,\n",
        "        device_grade,\n",
        "        new_device_brand\n",
        "    ]).reshape(1, -1)\n",
        "\n",
        "    # Predict using the model\n",
        "    prediction = model.predict(features)\n",
        "\n",
        "    # Map numerical predictions to status labels\n",
        "    status_mapping = {0: \"Failed\", 1: \"Interim\", 2: \"Success\"}  # Modify as per your dataset\n",
        "    st.success(f\"Predicted Trade-In Status: {status_mapping.get(prediction[0], 'Unknown')}\")\n"
      ],
      "metadata": {
        "colab": {
          "base_uri": "https://localhost:8080/"
        },
        "id": "nd7AAXZQCdb-",
        "outputId": "f80d91a7-4362-4a6c-8c33-b44751c1891b"
      },
      "execution_count": null,
      "outputs": [
        {
          "output_type": "stream",
          "name": "stdout",
          "text": [
            "Overwriting app.py\n"
          ]
        }
      ]
    },
    {
      "cell_type": "code",
      "source": [
        "#INFO: Running on local URL: http://localhost:8501\n",
        "#INFO: Exposing the app to the internet at: https://<your-ngrok-url>.ngrok.io\n"
      ],
      "metadata": {
        "colab": {
          "base_uri": "https://localhost:8080/",
          "height": 106
        },
        "id": "yS9fHbJUD11f",
        "outputId": "57114a2d-a046-426e-9147-bbaecb03f36a"
      },
      "execution_count": null,
      "outputs": [
        {
          "output_type": "error",
          "ename": "SyntaxError",
          "evalue": "invalid syntax (<ipython-input-55-d44911f69250>, line 1)",
          "traceback": [
            "\u001b[0;36m  File \u001b[0;32m\"<ipython-input-55-d44911f69250>\"\u001b[0;36m, line \u001b[0;32m1\u001b[0m\n\u001b[0;31m    INFO: Running on local URL: http://localhost:8501\u001b[0m\n\u001b[0m                  ^\u001b[0m\n\u001b[0;31mSyntaxError\u001b[0m\u001b[0;31m:\u001b[0m invalid syntax\n"
          ]
        }
      ]
    },
    {
      "cell_type": "code",
      "source": [
        "!pip install streamlit pyngrok"
      ],
      "metadata": {
        "colab": {
          "base_uri": "https://localhost:8080/"
        },
        "id": "wL9TSaDvMY9K",
        "outputId": "20474c27-362c-4c2e-dd64-1ec34fffc5ef"
      },
      "execution_count": null,
      "outputs": [
        {
          "output_type": "stream",
          "name": "stdout",
          "text": [
            "Requirement already satisfied: pyngrok in /usr/local/lib/python3.10/dist-packages (7.2.2)\n",
            "Requirement already satisfied: PyYAML>=5.1 in /usr/local/lib/python3.10/dist-packages (from pyngrok) (6.0.2)\n",
            "Requirement already satisfied: streamlit in /usr/local/lib/python3.10/dist-packages (1.41.1)\n",
            "Requirement already satisfied: pyngrok in /usr/local/lib/python3.10/dist-packages (7.2.2)\n",
            "Requirement already satisfied: altair<6,>=4.0 in /usr/local/lib/python3.10/dist-packages (from streamlit) (5.5.0)\n",
            "Requirement already satisfied: blinker<2,>=1.0.0 in /usr/local/lib/python3.10/dist-packages (from streamlit) (1.9.0)\n",
            "Requirement already satisfied: cachetools<6,>=4.0 in /usr/local/lib/python3.10/dist-packages (from streamlit) (5.5.0)\n",
            "Requirement already satisfied: click<9,>=7.0 in /usr/local/lib/python3.10/dist-packages (from streamlit) (8.1.7)\n",
            "Requirement already satisfied: numpy<3,>=1.23 in /usr/local/lib/python3.10/dist-packages (from streamlit) (1.26.4)\n",
            "Requirement already satisfied: packaging<25,>=20 in /usr/local/lib/python3.10/dist-packages (from streamlit) (24.2)\n",
            "Requirement already satisfied: pandas<3,>=1.4.0 in /usr/local/lib/python3.10/dist-packages (from streamlit) (2.2.2)\n",
            "Requirement already satisfied: pillow<12,>=7.1.0 in /usr/local/lib/python3.10/dist-packages (from streamlit) (11.0.0)\n",
            "Requirement already satisfied: protobuf<6,>=3.20 in /usr/local/lib/python3.10/dist-packages (from streamlit) (4.25.5)\n",
            "Requirement already satisfied: pyarrow>=7.0 in /usr/local/lib/python3.10/dist-packages (from streamlit) (17.0.0)\n",
            "Requirement already satisfied: requests<3,>=2.27 in /usr/local/lib/python3.10/dist-packages (from streamlit) (2.32.3)\n",
            "Requirement already satisfied: rich<14,>=10.14.0 in /usr/local/lib/python3.10/dist-packages (from streamlit) (13.9.4)\n",
            "Requirement already satisfied: tenacity<10,>=8.1.0 in /usr/local/lib/python3.10/dist-packages (from streamlit) (9.0.0)\n",
            "Requirement already satisfied: toml<2,>=0.10.1 in /usr/local/lib/python3.10/dist-packages (from streamlit) (0.10.2)\n",
            "Requirement already satisfied: typing-extensions<5,>=4.3.0 in /usr/local/lib/python3.10/dist-packages (from streamlit) (4.12.2)\n",
            "Requirement already satisfied: watchdog<7,>=2.1.5 in /usr/local/lib/python3.10/dist-packages (from streamlit) (6.0.0)\n",
            "Requirement already satisfied: gitpython!=3.1.19,<4,>=3.0.7 in /usr/local/lib/python3.10/dist-packages (from streamlit) (3.1.43)\n",
            "Requirement already satisfied: pydeck<1,>=0.8.0b4 in /usr/local/lib/python3.10/dist-packages (from streamlit) (0.9.1)\n",
            "Requirement already satisfied: tornado<7,>=6.0.3 in /usr/local/lib/python3.10/dist-packages (from streamlit) (6.3.3)\n",
            "Requirement already satisfied: PyYAML>=5.1 in /usr/local/lib/python3.10/dist-packages (from pyngrok) (6.0.2)\n",
            "Requirement already satisfied: jinja2 in /usr/local/lib/python3.10/dist-packages (from altair<6,>=4.0->streamlit) (3.1.4)\n",
            "Requirement already satisfied: jsonschema>=3.0 in /usr/local/lib/python3.10/dist-packages (from altair<6,>=4.0->streamlit) (4.23.0)\n",
            "Requirement already satisfied: narwhals>=1.14.2 in /usr/local/lib/python3.10/dist-packages (from altair<6,>=4.0->streamlit) (1.18.4)\n",
            "Requirement already satisfied: gitdb<5,>=4.0.1 in /usr/local/lib/python3.10/dist-packages (from gitpython!=3.1.19,<4,>=3.0.7->streamlit) (4.0.11)\n",
            "Requirement already satisfied: python-dateutil>=2.8.2 in /usr/local/lib/python3.10/dist-packages (from pandas<3,>=1.4.0->streamlit) (2.8.2)\n",
            "Requirement already satisfied: pytz>=2020.1 in /usr/local/lib/python3.10/dist-packages (from pandas<3,>=1.4.0->streamlit) (2024.2)\n",
            "Requirement already satisfied: tzdata>=2022.7 in /usr/local/lib/python3.10/dist-packages (from pandas<3,>=1.4.0->streamlit) (2024.2)\n",
            "Requirement already satisfied: charset-normalizer<4,>=2 in /usr/local/lib/python3.10/dist-packages (from requests<3,>=2.27->streamlit) (3.4.0)\n",
            "Requirement already satisfied: idna<4,>=2.5 in /usr/local/lib/python3.10/dist-packages (from requests<3,>=2.27->streamlit) (3.10)\n",
            "Requirement already satisfied: urllib3<3,>=1.21.1 in /usr/local/lib/python3.10/dist-packages (from requests<3,>=2.27->streamlit) (2.2.3)\n",
            "Requirement already satisfied: certifi>=2017.4.17 in /usr/local/lib/python3.10/dist-packages (from requests<3,>=2.27->streamlit) (2024.12.14)\n",
            "Requirement already satisfied: markdown-it-py>=2.2.0 in /usr/local/lib/python3.10/dist-packages (from rich<14,>=10.14.0->streamlit) (3.0.0)\n",
            "Requirement already satisfied: pygments<3.0.0,>=2.13.0 in /usr/local/lib/python3.10/dist-packages (from rich<14,>=10.14.0->streamlit) (2.18.0)\n",
            "Requirement already satisfied: smmap<6,>=3.0.1 in /usr/local/lib/python3.10/dist-packages (from gitdb<5,>=4.0.1->gitpython!=3.1.19,<4,>=3.0.7->streamlit) (5.0.1)\n",
            "Requirement already satisfied: MarkupSafe>=2.0 in /usr/local/lib/python3.10/dist-packages (from jinja2->altair<6,>=4.0->streamlit) (3.0.2)\n",
            "Requirement already satisfied: attrs>=22.2.0 in /usr/local/lib/python3.10/dist-packages (from jsonschema>=3.0->altair<6,>=4.0->streamlit) (24.3.0)\n",
            "Requirement already satisfied: jsonschema-specifications>=2023.03.6 in /usr/local/lib/python3.10/dist-packages (from jsonschema>=3.0->altair<6,>=4.0->streamlit) (2024.10.1)\n",
            "Requirement already satisfied: referencing>=0.28.4 in /usr/local/lib/python3.10/dist-packages (from jsonschema>=3.0->altair<6,>=4.0->streamlit) (0.35.1)\n",
            "Requirement already satisfied: rpds-py>=0.7.1 in /usr/local/lib/python3.10/dist-packages (from jsonschema>=3.0->altair<6,>=4.0->streamlit) (0.22.3)\n",
            "Requirement already satisfied: mdurl~=0.1 in /usr/local/lib/python3.10/dist-packages (from markdown-it-py>=2.2.0->rich<14,>=10.14.0->streamlit) (0.1.2)\n",
            "Requirement already satisfied: six>=1.5 in /usr/local/lib/python3.10/dist-packages (from python-dateutil>=2.8.2->pandas<3,>=1.4.0->streamlit) (1.17.0)\n"
          ]
        }
      ]
    },
    {
      "cell_type": "code",
      "source": [
        "from pyngrok import ngrok\n",
        "\n",
        "ngrok.set_auth_token(\"<2rMEZFMPX5bJRVE9mSZMgHxoWFH_5EobCMd5nRg9e3eeE2FLv>\")\n"
      ],
      "metadata": {
        "id": "aq-Qy3faLiP1"
      },
      "execution_count": null,
      "outputs": []
    },
    {
      "cell_type": "code",
      "source": [
        "# Start the Streamlit app\n",
        "!streamlit run app.py &\n",
        "\n",
        "# Use ngrok to expose the app\n",
        "from pyngrok import ngrok\n",
        "public_url = ngrok.connect(8501)  # 8501 is the default port for Streamlit\n",
        "print(f\"Streamlit app is running at: {public_url}\")\n"
      ],
      "metadata": {
        "id": "Ty80DT7ASbKf"
      },
      "execution_count": null,
      "outputs": []
    },
    {
      "cell_type": "code",
      "source": [
        "import joblib\n",
        "\n",
        "# Model results stored in variables\n",
        "lr_model_results = {'accuracy': 0.964981, 'precision': 0.965, 'recall': 0.965}\n",
        "rf_model_results = {'accuracy': 0.981489, 'precision': 0.981, 'recall': 0.981}\n",
        "gb_model_results = {'accuracy': 0.981365, 'precision': 0.981, 'recall': 0.981}\n",
        "\n",
        "\n",
        "# Store results for comparison\n",
        "model_results = [\n",
        "    {'model_name': 'Logistic Regression', **lr_model_results},\n",
        "    {'model_name': 'Random Forest', **rf_model_results},\n",
        "    {'model_name': 'Gradient Boosting', **gb_model_results}\n",
        "]\n",
        "\n",
        "# Compare models and find the best one\n",
        "best_model = max(model_results, key=lambda x: x['accuracy'])\n",
        "\n",
        "# Print all results\n",
        "print(\"Model Comparison:\\n\")\n",
        "for result in model_results:\n",
        "    print(f\"Model: {result['model_name']} / Accuracy: {result['accuracy']} / Precision: {result['precision']} / Recall: {result['recall']}\")\n",
        "\n",
        "# Print the best model\n",
        "print(\"\\nBest Model:\")\n",
        "print(f\"Model: {best_model['model_name']} / Accuracy: {best_model['accuracy']} / Precision: {best_model['precision']} / Recall: {best_model['recall']}\")\n",
        "\n",
        "# Save the best model's details (use the actual model object for XGBoost or others)\n",
        "joblib.dump(best_model, 'Best_model.pkl')\n",
        "\n",
        "# Load the saved best model details for verification\n",
        "loaded_model = joblib.load('Best_model.pkl')\n",
        "print(\"\\nLoaded Best Model Data:\", loaded_model)\n"
      ],
      "metadata": {
        "colab": {
          "base_uri": "https://localhost:8080/"
        },
        "id": "45zdO9ESSQOh",
        "outputId": "559d184d-8351-40d2-d273-a2800bc5c894"
      },
      "execution_count": null,
      "outputs": [
        {
          "output_type": "stream",
          "name": "stdout",
          "text": [
            "Model Comparison:\n",
            "\n",
            "Model: Logistic Regression / Accuracy: 0.964981 / Precision: 0.965 / Recall: 0.965\n",
            "Model: Random Forest / Accuracy: 0.981489 / Precision: 0.981 / Recall: 0.981\n",
            "Model: Gradient Boosting / Accuracy: 0.981365 / Precision: 0.981 / Recall: 0.981\n",
            "\n",
            "Best Model:\n",
            "Model: Random Forest / Accuracy: 0.981489 / Precision: 0.981 / Recall: 0.981\n",
            "\n",
            "Loaded Best Model Data: {'model_name': 'Random Forest', 'accuracy': 0.981489, 'precision': 0.981, 'recall': 0.981}\n"
          ]
        }
      ]
    }
  ]
}